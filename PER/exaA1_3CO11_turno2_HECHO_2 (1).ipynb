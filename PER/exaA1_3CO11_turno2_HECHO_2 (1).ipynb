{
  "cells": [
    {
      "cell_type": "markdown",
      "metadata": {
        "id": "78DKG7OvKWVQ"
      },
      "source": [
        "# Percepción (PER): examen de prácticas del bloque 1, grupo 3CO11, turno 2, 25-4-2023, 8:45-9:30\n",
        "\n",
        "Lee este cuaderno y realiza las actividades y ejercicios propuestos."
      ]
    },
    {
      "cell_type": "markdown",
      "metadata": {
        "id": "bcO2ovDUKWVU"
      },
      "source": [
        "## Importación de librerías relevantes\n",
        "\n",
        "Como sabes, sklearn facilita el aprendizaje y evaluación de clasificadores discriminativos en digits. Ejecuta el código siguiente para importar librerías relevantes:"
      ]
    },
    {
      "cell_type": "code",
      "execution_count": 1,
      "metadata": {
        "id": "EocjJJjCKWVU"
      },
      "outputs": [],
      "source": [
        "import numpy as np\n",
        "import matplotlib.pyplot as plt\n",
        "from scipy.stats import multivariate_normal\n",
        "from sklearn.datasets import load_digits\n",
        "from sklearn.model_selection import train_test_split\n",
        "from sklearn.linear_model import Perceptron, LogisticRegression\n",
        "from sklearn.metrics import accuracy_score\n",
        "from sklearn.decomposition import PCA\n",
        "from sklearn.preprocessing import StandardScaler, PolynomialFeatures\n",
        "from sklearn.pipeline import make_pipeline"
      ]
    },
    {
      "cell_type": "markdown",
      "metadata": {
        "id": "dsceKPBNKWVV"
      },
      "source": [
        "## Lectura del corpus digits\n",
        "\n",
        "Ejecuta el código siguiente con random_state igual a las tres últimas cifras de tu DNI/NIE:"
      ]
    },
    {
      "cell_type": "code",
      "execution_count": 2,
      "metadata": {
        "colab": {
          "base_uri": "https://localhost:8080/"
        },
        "id": "kC1uFBrOKWVV",
        "outputId": "59ddd2e0-bc9e-4149-8dbf-8ad14af2b663"
      },
      "outputs": [
        {
          "output_type": "stream",
          "name": "stdout",
          "text": [
            "(449, 64) (449,)\n"
          ]
        }
      ],
      "source": [
        "digits = load_digits()\n",
        "X = digits.data\n",
        "y = digits.target\n",
        "X_train, X_test, y_train, y_test = train_test_split(\n",
        "    digits.data, digits.target, test_size=0.75, shuffle=True, random_state=582)\n",
        "print(X_train.shape, y_train.shape)"
      ]
    },
    {
      "cell_type": "markdown",
      "metadata": {
        "id": "H7l5Z69kKWVW"
      },
      "source": [
        "## Perceptrón\n",
        "\n",
        "Ejecuta el código siguiente para estudiar la precisión de Perceptrón con penalización L2 en función de alpha:"
      ]
    },
    {
      "cell_type": "code",
      "execution_count": 3,
      "metadata": {
        "colab": {
          "base_uri": "https://localhost:8080/"
        },
        "id": "ZKYtutBrKWVW",
        "outputId": "1101fc6a-942a-48a7-a71d-d5fa4100f021"
      },
      "outputs": [
        {
          "output_type": "stream",
          "name": "stdout",
          "text": [
            "La precisión de Perceptron(alpha=1e-08, penalty='l2') es 90.0%\n",
            "La precisión de Perceptron(alpha=1e-07, penalty='l2') es 90.0%\n",
            "La precisión de Perceptron(alpha=1e-06, penalty='l2') es 91.7%\n",
            "La precisión de Perceptron(alpha=1e-05, penalty='l2') es 91.5%\n",
            "La precisión de Perceptron(penalty='l2') es 88.1%\n",
            "La precisión de Perceptron(alpha=0.001, penalty='l2') es 75.5%\n"
          ]
        }
      ],
      "source": [
        "for a in np.logspace(-8,-3,6):\n",
        "    clf = Perceptron(penalty='l2', alpha=a, random_state=0).fit(X_train, y_train)\n",
        "    acc = accuracy_score(y_test, clf.predict(X_test))\n",
        "    print('La precisión de {0!s} es {1:.1%}'.format(clf, acc))"
      ]
    },
    {
      "cell_type": "markdown",
      "metadata": {
        "id": "lmytmifMKWVW"
      },
      "source": [
        "## Regresión logística\n",
        "\n",
        "Añade una celda de código para estudiar regresión logística con solver lbfgs, en función del preproceso. Aparte de características polinómicas (de grado 2 a lo sumo), el preproceso de características puede incluir estandarización (StandardScaler) y reducción de la dimensión (PCA). Determina una configuración del preproceso que obtenga máxima precisión."
      ]
    },
    {
      "cell_type": "code",
      "source": [
        "clf = LogisticRegression(solver='lbfgs', max_iter=10000).fit(X_train, y_train)\n",
        "acc = accuracy_score(y_test, clf.predict(X_test))\n",
        "print('La precisión de {0!s} es {1:.1%}'.format(clf, acc))"
      ],
      "metadata": {
        "colab": {
          "base_uri": "https://localhost:8080/"
        },
        "id": "ZZmWkNnCLtNU",
        "outputId": "46054eb0-4407-4455-c974-ccc64044cfff"
      },
      "execution_count": 6,
      "outputs": [
        {
          "output_type": "stream",
          "name": "stdout",
          "text": [
            "La precisión de LogisticRegression(max_iter=10000) es 94.5%\n"
          ]
        }
      ]
    },
    {
      "cell_type": "code",
      "source": [
        "def lr_exp(standardize=True, degree=2, n_components=0):\n",
        "    clf = make_pipeline(StandardScaler() if standardize else None, \n",
        "    PolynomialFeatures(degree=degree),\n",
        "    PCA(n_components=n_components) if n_components > 0 else None,\n",
        "    LogisticRegression(max_iter=10000, solver='lbfgs', n_jobs=8)).fit(X_train, y_train)\n",
        "    y_pred = clf.predict(X_test)\n",
        "    return accuracy_score(y_test, y_pred)\n",
        "for n_components in [8, 16, 32, 64, 128, 256, 449, 0]:\n",
        "    for standardize in [False, True]:\n",
        "        acc = lr_exp(standardize=standardize, degree=2, n_components=n_components)\n",
        "        print('standardize {0:} components {1:}: {2:.1%} acc'.format(standardize, n_components, acc))"
      ],
      "metadata": {
        "colab": {
          "base_uri": "https://localhost:8080/"
        },
        "id": "h03phomGMHeB",
        "outputId": "34b6402a-8198-4af9-ba03-0ca243c980d3"
      },
      "execution_count": 11,
      "outputs": [
        {
          "output_type": "stream",
          "name": "stdout",
          "text": [
            "standardize False components 8: 85.5% acc\n",
            "standardize True components 8: 58.4% acc\n",
            "standardize False components 16: 90.9% acc\n",
            "standardize True components 16: 79.0% acc\n",
            "standardize False components 32: 93.2% acc\n",
            "standardize True components 32: 87.8% acc\n",
            "standardize False components 64: 94.9% acc\n",
            "standardize True components 64: 94.4% acc\n",
            "standardize False components 128: 95.6% acc\n",
            "standardize True components 128: 96.6% acc\n",
            "standardize False components 256: 96.0% acc\n",
            "standardize True components 256: 97.2% acc\n",
            "standardize False components 449: 96.1% acc\n",
            "standardize True components 449: 97.3% acc\n",
            "standardize False components 0: 96.1% acc\n",
            "standardize True components 0: 97.3% acc\n"
          ]
        }
      ]
    },
    {
      "cell_type": "markdown",
      "source": [
        "A la vista de los resultados, la forma optima de preproceso para el solver lbfgs y random.seed= 582, es con estandarizacion y con un numero de componentes 449 o bien 0, ya que obtienen la misma tasa de acierto, ambas dan 97.3%. Quizas en este caso, conviene elegir el n_componentes = 0 ya que emplea menos recursos computacionales y algoritmicamente será algo más ligero, pero en realidad da un poco igual. Tambien es cierto que si hacemos n_componentes=0, entonces evitamos la posibilidad de perder cierta información. Como se ve, es mejor en general preprocesar los datos que no hacerlo, en casi cualquier caso, porque obtenemos un 94.5% de precision en caso de no hacerlo. "
      ],
      "metadata": {
        "id": "c7nSvV4MPV2k"
      }
    }
  ],
  "metadata": {
    "kernelspec": {
      "display_name": "Python 3",
      "language": "python",
      "name": "python3"
    },
    "language_info": {
      "codemirror_mode": {
        "name": "ipython",
        "version": 3
      },
      "file_extension": ".py",
      "mimetype": "text/x-python",
      "name": "python",
      "nbconvert_exporter": "python",
      "pygments_lexer": "ipython3",
      "version": "3.10.6"
    },
    "vscode": {
      "interpreter": {
        "hash": "e7370f93d1d0cde622a1f8e1c04877d8463912d04d973331ad4851f04de6915a"
      }
    },
    "colab": {
      "provenance": []
    }
  },
  "nbformat": 4,
  "nbformat_minor": 0
}