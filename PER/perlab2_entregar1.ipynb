{
  "cells": [
    {
      "cell_type": "markdown",
      "metadata": {
        "id": "l-lDUQK0Z-Qm"
      },
      "source": [
        "# Percepción (PER): examen de prácticas del bloque 2, grupo 3CO11, turno 2, 30-5-2023, 8:45-9:30\n",
        "\n",
        "Lee este cuaderno y realiza las actividades y ejercicios propuestos."
      ]
    },
    {
      "cell_type": "markdown",
      "metadata": {
        "id": "LY4dIQpaZ-Qn"
      },
      "source": [
        "## Lectura de MNIST\n",
        "\n",
        "Ejecuta el código siguiente:"
      ]
    },
    {
      "cell_type": "code",
      "execution_count": 1,
      "metadata": {
        "colab": {
          "base_uri": "https://localhost:8080/"
        },
        "id": "-moWClhrZ-Qo",
        "outputId": "c0c056f1-23c9-4fd1-dcfd-3144e16dbcf7"
      },
      "outputs": [
        {
          "output_type": "stream",
          "name": "stderr",
          "text": [
            "/usr/local/lib/python3.10/dist-packages/sklearn/datasets/_openml.py:968: FutureWarning: The default value of `parser` will change from `'liac-arff'` to `'auto'` in 1.4. You can set `parser='auto'` to silence this warning. Therefore, an `ImportError` will be raised from 1.4 if the dataset is dense and pandas is not installed. Note that the pandas parser may return different data types. See the Notes Section in fetch_openml's API doc for details.\n",
            "  warn(\n"
          ]
        }
      ],
      "source": [
        "import numpy as np\n",
        "from sklearn.datasets import fetch_openml\n",
        "mnist = fetch_openml(\"mnist_784\")\n",
        "data = mnist.data.astype(np.float32).to_numpy()\n",
        "target = mnist.target.astype(np.uint8).to_numpy()"
      ]
    },
    {
      "cell_type": "markdown",
      "metadata": {
        "id": "Paz-4ImsZ-Qo"
      },
      "source": [
        "## Partición de los datos\n",
        "\n",
        "El código siguiente particiona los datos en 3 subconjuntos; training, validación y test; con un 70%, 15% y 15% del total, respectivamente. Ejecuta el código siguiente con **random_state** igual a las tres últimas cifras de tu DNI/NIE:"
      ]
    },
    {
      "cell_type": "code",
      "execution_count": 2,
      "metadata": {
        "colab": {
          "base_uri": "https://localhost:8080/"
        },
        "id": "JKw00ycBZ-Qo",
        "outputId": "7e8e9bf4-d43e-440f-bad3-36f8a0f13dec"
      },
      "outputs": [
        {
          "output_type": "stream",
          "name": "stdout",
          "text": [
            "(49000, 784) (10500, 784) (10500, 784)\n"
          ]
        }
      ],
      "source": [
        "from sklearn.model_selection import train_test_split\n",
        "x_train_val, x_test, y_train_val, y_test  = train_test_split(data, target, test_size=0.15, random_state=582) #04659582\n",
        "x_train, x_val, y_train, y_val = train_test_split(x_train_val, y_train_val, test_size=0.15/0.85, random_state=582) \n",
        "print(x_train.shape, x_val.shape, x_test.shape)"
      ]
    },
    {
      "cell_type": "markdown",
      "metadata": {
        "id": "QQljEArFZ-Qo"
      },
      "source": [
        "## KNeighborsClassifier: hiper-parámetros\n",
        "\n",
        "Estudia la precisión en validación de KNeighborsClassifier (implementación sklearn de K vecinos más próximos para clasificación) entrenado con el 70% de datos reservados para entrenamiento. Prueba diferentes valores de **n_neighbors** ($K$, el número de vecinos; $5$ por omisión) para determinar un valor \"óptimo\" (de error mínimo) del mismo. Por brevedad, se recomienda no explorar más allá de $20$ vecinos."
      ]
    },
    {
      "cell_type": "code",
      "execution_count": 3,
      "metadata": {
        "colab": {
          "base_uri": "https://localhost:8080/"
        },
        "id": "VQ4GhDUeZ-Qo",
        "outputId": "05e03fbc-5632-4820-afaf-c92df3e38a85"
      },
      "outputs": [
        {
          "output_type": "stream",
          "name": "stdout",
          "text": [
            "k = 1accuracy = 0.9703809523809523\n",
            "k = 2accuracy = 0.9641904761904762\n",
            "k = 3accuracy = 0.9704761904761905\n",
            "k = 4accuracy = 0.9696190476190476\n",
            "k = 5accuracy = 0.9694285714285714\n",
            "k = 6accuracy = 0.9674285714285714\n",
            "k = 7accuracy = 0.9676190476190476\n",
            "k = 8accuracy = 0.9665714285714285\n",
            "k = 9accuracy = 0.9660952380952381\n",
            "k = 10accuracy = 0.9656190476190476\n",
            "k = 11accuracy = 0.964952380952381\n",
            "k = 12accuracy = 0.9642857142857143\n",
            "k = 13accuracy = 0.9633333333333334\n",
            "k = 14accuracy = 0.9625714285714285\n",
            "k = 15accuracy = 0.962\n",
            "k = 16accuracy = 0.9619047619047619\n",
            "k = 17accuracy = 0.9613333333333334\n",
            "k = 18accuracy = 0.9612380952380952\n",
            "k = 19accuracy = 0.9614285714285714\n",
            "k = 20accuracy = 0.9602857142857143\n",
            "best k = 3 max accuracy = 0.9704761904761905\n"
          ]
        }
      ],
      "source": [
        "from sklearn.neighbors import KNeighborsClassifier\n",
        "from sklearn.metrics import accuracy_score\n",
        "max = -1\n",
        "for k in np.arange(1, 21, 1): #itero los valores de k\n",
        "  kv = KNeighborsClassifier(n_neighbors=k) #inicializo el clasificador con el valor de k\n",
        "  kv.fit(x_train,y_train) #lo entreno\n",
        "\n",
        "  ypred = kv.predict(x_val) #predicción\n",
        "  acc = accuracy_score(y_val, ypred) #calculamos la precisión de la predición utilizando las etiquetas de clase verdaderas\n",
        "  print(\"k = \" + str(k) + \" accuracy = \" + str(acc)) \n",
        "\n",
        "  if acc > max: #si la precision para esta k, es mayor que el maximo registrado:\n",
        "    max = acc # la máxima precisión\n",
        "    best = k # el mejor k\n",
        "print(\"best k = \" + str(best) + \" max accuracy = \" + str(max))\n"
      ]
    },
    {
      "cell_type": "markdown",
      "metadata": {
        "id": "Z-TVWsZOZ-Qp"
      },
      "source": [
        "## KNeighborsClassifier: precisión en test\n",
        "\n",
        "Entrena KNeighborsClassifier con el 85% de datos reservado para entrenamiento y validación, así como con el valor de **n_neighbors** que mayor precisión en validación haya obtenido en el estudio anterior. Obtén la precisión en test del mismo."
      ]
    },
    {
      "cell_type": "code",
      "execution_count": 6,
      "metadata": {
        "colab": {
          "base_uri": "https://localhost:8080/"
        },
        "id": "ZLFgCmIqZ-Qp",
        "outputId": "3457eb48-d76b-402f-cc19-9a636024433d"
      },
      "outputs": [
        {
          "output_type": "stream",
          "name": "stdout",
          "text": [
            "la precisión máxima con el mejor k = 3 es 0.9729523809523809\n"
          ]
        }
      ],
      "source": [
        "\n",
        "kv = KNeighborsClassifier(n_neighbors=best) #inicializo el clasificador definitivo, que usara todos los datos, pero con el MEJOR parámetro\n",
        "kv.fit(x_train_val, y_train_val) #no hace falta concatenate, se entrena\n",
        "\n",
        "ypred = kv.predict(x_test) #predicción\n",
        "acc = accuracy_score(y_test, ypred) #precisión\n",
        "print(\"la precisión máxima con el mejor k = \" + str(best)  + \" es \" + str(acc))"
      ]
    }
  ],
  "metadata": {
    "kernelspec": {
      "display_name": "Python 3.7.4",
      "language": "python",
      "name": "python3"
    },
    "language_info": {
      "codemirror_mode": {
        "name": "ipython",
        "version": 3
      },
      "file_extension": ".py",
      "mimetype": "text/x-python",
      "name": "python",
      "nbconvert_exporter": "python",
      "pygments_lexer": "ipython3",
      "version": "3.10.6"
    },
    "orig_nbformat": 4,
    "vscode": {
      "interpreter": {
        "hash": "3067ead486e059ec00ffe7555bdb889e6e264a24dc711bf108106cc7baee8d5d"
      }
    },
    "colab": {
      "provenance": []
    }
  },
  "nbformat": 4,
  "nbformat_minor": 0
}